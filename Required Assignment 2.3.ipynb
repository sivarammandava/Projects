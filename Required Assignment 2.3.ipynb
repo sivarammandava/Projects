{
 "cells": [
  {
   "cell_type": "code",
   "execution_count": 33,
   "metadata": {},
   "outputs": [
    {
     "name": "stdout",
     "output_type": "stream",
     "text": [
      "What is your Name? Stephen Curry\n",
      "Give me an S!\n",
      "S!\n",
      "Give me a T!\n",
      "T!\n",
      "Give me an E!\n",
      "E!\n",
      "Give me a P!\n",
      "P!\n",
      "Give me an H!\n",
      "H!\n",
      "Give me an E!\n",
      "E!\n",
      "Give me an N!\n",
      "N!\n",
      "Give me a C!\n",
      "C!\n",
      "Give me a U!\n",
      "U!\n",
      "Give me an R!\n",
      "R!\n",
      "Give me an R!\n",
      "R!\n",
      "Give me a Y!\n",
      "Y!\n",
      "What's that spell?\n",
      "Stephen Curry!!\n",
      "Go! Go! Stephen Curry!!\n"
     ]
    }
   ],
   "source": [
    "vowel = [\"A\", \"E\", \"F\", \"H\", \"I\", \"L\", \"M\", \"N\", \"O\", \"R\", \"S\", \"X\"]\n",
    "\n",
    "name = input(\"What is your Name? \")\n",
    "name1 = name.replace(\" \", \"\")\n",
    "name1 = name1.upper()\n",
    "for letter in name1:\n",
    "    ind = \"an\" if letter in vowel else \"a\"\n",
    "    print(\"Give me \" + ind + \" \" + letter + \"!\")\n",
    "    print(letter + \"!\")\n",
    "\n",
    "print(\"What's that spell?\")\n",
    "print(name + \"!!\")\n",
    "print(\"Go! Go! \" + name + \"!!\")"
   ]
  },
  {
   "cell_type": "code",
   "execution_count": 26,
   "metadata": {},
   "outputs": [
    {
     "name": "stdout",
     "output_type": "stream",
     "text": [
      "Enter an integer: 5\n",
      "5 is a palindrome\n"
     ]
    }
   ],
   "source": [
    "num = input(\"Enter an integer: \")\n",
    "num1 = (int(num))\n",
    "num1 = abs(num1)\n",
    "num1 = str(num1)\n",
    "if num1 == num1[::-1]:\n",
    "    print(num + \" is a palindrome\")\n",
    "else:\n",
    "    print(num + \" is not a palindrome\")\n",
    "\n",
    "    "
   ]
  },
  {
   "cell_type": "code",
   "execution_count": 42,
   "metadata": {},
   "outputs": [
    {
     "name": "stdout",
     "output_type": "stream",
     "text": [
      "Enter a sentence: Why so serious, Son?\n",
      "The number of S's is 4\n"
     ]
    }
   ],
   "source": [
    "sentence = input(\"Enter a sentence: \")\n",
    "\n",
    "lowerS = sentence.count('s')\n",
    "upperS = sentence.count('S')\n",
    "totalS = lowerS + upperS\n",
    "totalS = str(totalS)\n",
    "\n",
    "print(\"The number of S's is \" + totalS)"
   ]
  },
  {
   "cell_type": "code",
   "execution_count": 51,
   "metadata": {},
   "outputs": [
    {
     "name": "stdout",
     "output_type": "stream",
     "text": [
      "Enter a guess between 1 to 99: 35\n",
      "Your guess is too small.\n",
      "Enter a guess between 1 to 99: 72\n",
      "Your guess is too large.\n",
      "Enter a guess between 1 to 99: 65\n",
      "Bingo!\n"
     ]
    }
   ],
   "source": [
    "correctNumber = 65\n",
    "guess = 0\n",
    "while guess != correctNumber:\n",
    "    guess = input(\"Enter a guess between 1 to 99: \")\n",
    "    \n",
    "    guess = int(guess)\n",
    "        \n",
    "    if guess < correctNumber:\n",
    "        print(\"Your guess is too small.\")\n",
    "    elif guess > correctNumber:\n",
    "        print(\"Your guess is too large.\")\n",
    "    else:\n",
    "        print(\"Bingo!\")"
   ]
  },
  {
   "cell_type": "code",
   "execution_count": null,
   "metadata": {},
   "outputs": [],
   "source": []
  }
 ],
 "metadata": {
  "kernelspec": {
   "display_name": "Python 3",
   "language": "python",
   "name": "python3"
  },
  "language_info": {
   "codemirror_mode": {
    "name": "ipython",
    "version": 3
   },
   "file_extension": ".py",
   "mimetype": "text/x-python",
   "name": "python",
   "nbconvert_exporter": "python",
   "pygments_lexer": "ipython3",
   "version": "3.7.4"
  }
 },
 "nbformat": 4,
 "nbformat_minor": 2
}
