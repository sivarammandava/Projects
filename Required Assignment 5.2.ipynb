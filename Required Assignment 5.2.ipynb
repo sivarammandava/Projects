{
 "cells": [
  {
   "cell_type": "code",
   "execution_count": null,
   "metadata": {},
   "outputs": [],
   "source": [
    "import os\n",
    "cwd = os.getcwd()\n",
    "files = os.listdir()"
   ]
  },
  {
   "cell_type": "code",
   "execution_count": null,
   "metadata": {},
   "outputs": [],
   "source": [
    "import pandas as pd"
   ]
  },
  {
   "cell_type": "code",
   "execution_count": null,
   "metadata": {},
   "outputs": [],
   "source": [
    "df = pd.read_csv(\"EDdata_new.csv\",index_col=\"Case\")\n",
    "df.head(10)"
   ]
  },
  {
   "cell_type": "code",
   "execution_count": null,
   "metadata": {},
   "outputs": [],
   "source": [
    "fil_2 = (df[\"Gender\"] == \"M\") & (df[\"Hospital_Name\"] != \"KKH\") \n",
    "df_male = df.loc[fil_2,:].copy()   # subset data to meet the filtering condition\n",
    "\n",
    "hosp_name = df_male[\"Hospital_Name\"]\n",
    "out_table2 = {}                                  # Create an empty dictionary \n",
    "for hos in hosp_name:\n",
    "    out_table2.update({str(hos): list()})\n",
    "    \n",
    "for hos in hosp_name:\n",
    "    filter_hos = (df_male[\"Hospital_Name\"] == hos)\n",
    "    df_temp = df_male.loc[filter_hos,:]\n",
    "    out_table2[hos] = filter_hos.sum()\n",
    "    \n",
    "result2 = pd.Series(out_table2)\n",
    "result2/result2.sum()\n",
    "\n",
    "print(\"Male Patients prefer GGH Hospital\")\n"
   ]
  },
  {
   "cell_type": "code",
   "execution_count": null,
   "metadata": {},
   "outputs": [],
   "source": [
    "df[\"Wait_time\"] = 0\n",
    "n_pat = len(df)\n",
    "df_reg = df[\"reg_sec\"]\n",
    "df_tri = df[\"triage_sec\"]\n",
    "df_wait = df[\"Wait_time\"]\n",
    "\n",
    "df_wait = (24*60*60) - df_reg + df_tri    # handle Case 2 first\n",
    "\n",
    "filt_1 = df[\"triage_sec\"] > df[\"reg_sec\"] # handle Case 1\n",
    "df_wait[filt_1] = df_tri[filt_1] - df_reg[filt_1]\n",
    "\n",
    "df[\"Wait_time\"] = df_wait        \n",
    "df[\"Wait_min\"] = df_wait/60.0\n",
    "\n",
    "df.head(10)"
   ]
  },
  {
   "cell_type": "code",
   "execution_count": null,
   "metadata": {},
   "outputs": [],
   "source": [
    "import numpy as np\n",
    "out_dic = {}                               # Create a dictionary to store the computation results\n",
    "hosp_name = df[\"Hospital_Name\"].unique() "
   ]
  },
  {
   "cell_type": "code",
   "execution_count": null,
   "metadata": {},
   "outputs": [],
   "source": [
    "hosp_name"
   ]
  },
  {
   "cell_type": "code",
   "execution_count": null,
   "metadata": {},
   "outputs": [],
   "source": [
    "filKTPH = (df['Hospital_Name'] == 'KTPH')\n",
    "dfKTPH = df.loc[filKTPH,:].copy() \n",
    "dfKTPH.describe()"
   ]
  },
  {
   "cell_type": "code",
   "execution_count": null,
   "metadata": {},
   "outputs": [],
   "source": [
    "filKKH = (df['Hospital_Name'] == 'KKH')\n",
    "dfKKH = df.loc[filKKH,:].copy() \n",
    "dfKKH.describe()"
   ]
  },
  {
   "cell_type": "code",
   "execution_count": null,
   "metadata": {},
   "outputs": [],
   "source": [
    "filCGH = (df['Hospital_Name'] == 'CGH')\n",
    "dfCGH = df.loc[filCGH,:].copy() \n",
    "dfCGH.describe()"
   ]
  },
  {
   "cell_type": "code",
   "execution_count": null,
   "metadata": {},
   "outputs": [],
   "source": [
    "filSGH = (df['Hospital_Name'] == 'SGH')\n",
    "dfSGH = df.loc[filSGH,:].copy() \n",
    "dfSGH.describe()"
   ]
  },
  {
   "cell_type": "code",
   "execution_count": null,
   "metadata": {},
   "outputs": [],
   "source": [
    "filTTSH = (df['Hospital_Name'] == 'TTSH')\n",
    "dfTTSH = df.loc[filTTSH,:].copy() \n",
    "dfTTSH.describe()"
   ]
  },
  {
   "cell_type": "code",
   "execution_count": null,
   "metadata": {},
   "outputs": [],
   "source": [
    "filAH = (df['Hospital_Name'] == 'AH')\n",
    "dfAH = df.loc[filAH,:].copy() \n",
    "dfAH.describe()"
   ]
  },
  {
   "cell_type": "code",
   "execution_count": null,
   "metadata": {},
   "outputs": [],
   "source": [
    "filNUH = (df['Hospital_Name'] == 'NUH')\n",
    "dfNUH = df.loc[filNUH,:].copy() \n",
    "dfNUH.describe()"
   ]
  },
  {
   "cell_type": "code",
   "execution_count": null,
   "metadata": {},
   "outputs": [],
   "source": [
    "print(\"No The distribution is not similar for all Hospitals\")"
   ]
  },
  {
   "cell_type": "code",
   "execution_count": null,
   "metadata": {},
   "outputs": [],
   "source": [
    "df.head()"
   ]
  },
  {
   "cell_type": "code",
   "execution_count": null,
   "metadata": {},
   "outputs": [],
   "source": [
    "np.zeros(3, dtype = int)\n",
    "date = np.zeros(df.shape[0], dtype = int) # df.shape can get the number of rows and the number of columns\n",
    "time = np.zeros(df.shape[0], dtype = int)\n",
    "year = np.zeros(df.shape[0], dtype = int)\n",
    "df.head()\n",
    "\n",
    "for i in range(df.shape[0]):\n",
    "    dd, mm, yy = df.loc[i, 'REGIS_DATE'].split(\"/\")\n",
    "    hh, mm, ss = df.loc[i, 'REGIS_TIME'].split(\":\")\n",
    "    date[i] = dd\n",
    "    time[i] = hh\n",
    "    year[i] = yy\n",
    "    \n",
    "df[\"REGIS_DAY\"] = date\n",
    "df[\"REGIS_HOUR\"] = time\n",
    "df[\"REGIS_YEAR\"] = year\n",
    "df.head()"
   ]
  },
  {
   "cell_type": "code",
   "execution_count": null,
   "metadata": {},
   "outputs": [],
   "source": [
    "filtYear = (df['REGIS_YEAR'] == 2011)\n",
    "df2011 = df.loc[filtYear].copy()\n",
    "\n",
    "table1 = np.zeros((31,24), dtype = float)\n",
    "\n",
    "for i in range(31):\n",
    "    for j in range(24):\n",
    "        filt = (df2011.REGIS_DAY == (i+1)) & (df2011.REGIS_HOUR == j)\n",
    "        table1[i,j] = filt.sum()\n",
    "\n",
    "dfTable1 = pd.DataFrame(table1)\n",
    "dfTable1()"
   ]
  },
  {
   "cell_type": "code",
   "execution_count": null,
   "metadata": {},
   "outputs": [],
   "source": [
    "weekday_check = (df_2011[\"REGIS_DAY\"] + 5) % 7\n",
    "weekday_check\n",
    "\n",
    "df2011['weekday_check'] = weekday_check\n",
    "\n",
    "weekday={0: 'Sunday',\n",
    "         1: 'Monday',\n",
    "         2: 'Tuesday',\n",
    "         3: 'Wednesday',\n",
    "         4: 'Thursday',\n",
    "         5: 'Friday',\n",
    "         6: 'Saturday'}\n",
    "\n",
    "df2011['WEEKDAY']=df2011.weekday_check.map(weekday)\n",
    "\n",
    "df2011()\n"
   ]
  },
  {
   "cell_type": "code",
   "execution_count": null,
   "metadata": {},
   "outputs": [],
   "source": [
    "day_list = ['Monday', 'Tuesday', 'Wednesday', 'Thursday', 'Friday', 'Saturday', 'Sunday']\n",
    "\n",
    "table2 = np.zeros((7,24), dtype = float)\n",
    "\n",
    "for i in range(7):\n",
    "    for j in range(24):\n",
    "        filt = (df2011.WEEKDAY == day_list[i]) & (df2011.REGIS_HOUR == j)\n",
    "        table2[i,j] = filt.sum()\n",
    "        \n",
    "dfTable2 = pd.DataFrame(table2)\n",
    "dfTable2()\n",
    "\n",
    "dfTable2.iloc[0,:] = dfTable2.iloc[0,:]/5\n",
    "dfTable2.iloc[1,:] = dfTable2.iloc[1,:]/5  \n",
    "dfTable2.iloc[2,:] = dfTable2.iloc[2,:]/4 \n",
    "dfTable2.iloc[3,:] = dfTable2.iloc[3,:]/4\n",
    "dfTable2.iloc[4,:] = dfTable2.iloc[4,:]/4\n",
    "dfTable2.iloc[5,:] = dfTable2.iloc[5,:]/4\n",
    "dfTable2.iloc[6,:] = dfTable2.iloc[6,:]/4\n",
    "\n",
    "dfTable2"
   ]
  }
 ],
 "metadata": {
  "kernelspec": {
   "display_name": "Python 3",
   "language": "python",
   "name": "python3"
  },
  "language_info": {
   "codemirror_mode": {
    "name": "ipython",
    "version": 3
   },
   "file_extension": ".py",
   "mimetype": "text/x-python",
   "name": "python",
   "nbconvert_exporter": "python",
   "pygments_lexer": "ipython3",
   "version": "3.7.4"
  }
 },
 "nbformat": 4,
 "nbformat_minor": 2
}
