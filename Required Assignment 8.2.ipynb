{
 "cells": [
  {
   "cell_type": "code",
   "execution_count": 14,
   "metadata": {},
   "outputs": [
    {
     "data": {
      "text/html": [
       "<div>\n",
       "<style scoped>\n",
       "    .dataframe tbody tr th:only-of-type {\n",
       "        vertical-align: middle;\n",
       "    }\n",
       "\n",
       "    .dataframe tbody tr th {\n",
       "        vertical-align: top;\n",
       "    }\n",
       "\n",
       "    .dataframe thead th {\n",
       "        text-align: right;\n",
       "    }\n",
       "</style>\n",
       "<table border=\"1\" class=\"dataframe\">\n",
       "  <thead>\n",
       "    <tr style=\"text-align: right;\">\n",
       "      <th></th>\n",
       "      <th>name</th>\n",
       "      <th>price</th>\n",
       "      <th>unit_price</th>\n",
       "      <th>district_code</th>\n",
       "      <th>segment</th>\n",
       "      <th>type</th>\n",
       "      <th>area</th>\n",
       "      <th>level</th>\n",
       "      <th>remaining_years</th>\n",
       "      <th>date</th>\n",
       "    </tr>\n",
       "  </thead>\n",
       "  <tbody>\n",
       "    <tr>\n",
       "      <td>0</td>\n",
       "      <td>SEASCAPE</td>\n",
       "      <td>4388000</td>\n",
       "      <td>2028</td>\n",
       "      <td>4</td>\n",
       "      <td>CCR</td>\n",
       "      <td>Resale</td>\n",
       "      <td>2164</td>\n",
       "      <td>06 to 10</td>\n",
       "      <td>87.0</td>\n",
       "      <td>Nov-19</td>\n",
       "    </tr>\n",
       "    <tr>\n",
       "      <td>1</td>\n",
       "      <td>COMMONWEALTH TOWERS</td>\n",
       "      <td>1300000</td>\n",
       "      <td>1887</td>\n",
       "      <td>3</td>\n",
       "      <td>RCR</td>\n",
       "      <td>Resale</td>\n",
       "      <td>689</td>\n",
       "      <td>16 to 20</td>\n",
       "      <td>93.0</td>\n",
       "      <td>Nov-19</td>\n",
       "    </tr>\n",
       "    <tr>\n",
       "      <td>2</td>\n",
       "      <td>THE TRILINQ</td>\n",
       "      <td>1755000</td>\n",
       "      <td>1304</td>\n",
       "      <td>5</td>\n",
       "      <td>OCR</td>\n",
       "      <td>Resale</td>\n",
       "      <td>1346</td>\n",
       "      <td>06 to 10</td>\n",
       "      <td>92.0</td>\n",
       "      <td>Nov-19</td>\n",
       "    </tr>\n",
       "    <tr>\n",
       "      <td>3</td>\n",
       "      <td>THE CREST</td>\n",
       "      <td>2085000</td>\n",
       "      <td>2201</td>\n",
       "      <td>3</td>\n",
       "      <td>RCR</td>\n",
       "      <td>Resale</td>\n",
       "      <td>947</td>\n",
       "      <td>01 to 05</td>\n",
       "      <td>92.0</td>\n",
       "      <td>Nov-19</td>\n",
       "    </tr>\n",
       "    <tr>\n",
       "      <td>4</td>\n",
       "      <td>THE ANCHORAGE</td>\n",
       "      <td>1848888</td>\n",
       "      <td>1468</td>\n",
       "      <td>3</td>\n",
       "      <td>RCR</td>\n",
       "      <td>Resale</td>\n",
       "      <td>1259</td>\n",
       "      <td>01 to 05</td>\n",
       "      <td>999.0</td>\n",
       "      <td>Nov-19</td>\n",
       "    </tr>\n",
       "    <tr>\n",
       "      <td>5</td>\n",
       "      <td>MOUNT FABER LODGE</td>\n",
       "      <td>4400000</td>\n",
       "      <td>1188</td>\n",
       "      <td>4</td>\n",
       "      <td>RCR</td>\n",
       "      <td>Resale</td>\n",
       "      <td>3703</td>\n",
       "      <td>06 to 10</td>\n",
       "      <td>999.0</td>\n",
       "      <td>Oct-19</td>\n",
       "    </tr>\n",
       "    <tr>\n",
       "      <td>6</td>\n",
       "      <td>BLUE HORIZON</td>\n",
       "      <td>990000</td>\n",
       "      <td>1022</td>\n",
       "      <td>5</td>\n",
       "      <td>OCR</td>\n",
       "      <td>Resale</td>\n",
       "      <td>969</td>\n",
       "      <td>21 to 25</td>\n",
       "      <td>80.0</td>\n",
       "      <td>Oct-19</td>\n",
       "    </tr>\n",
       "    <tr>\n",
       "      <td>7</td>\n",
       "      <td>DOVER PARKVIEW</td>\n",
       "      <td>1088000</td>\n",
       "      <td>1162</td>\n",
       "      <td>5</td>\n",
       "      <td>RCR</td>\n",
       "      <td>Resale</td>\n",
       "      <td>936</td>\n",
       "      <td>06 to 10</td>\n",
       "      <td>73.0</td>\n",
       "      <td>Oct-19</td>\n",
       "    </tr>\n",
       "    <tr>\n",
       "      <td>8</td>\n",
       "      <td>CARIBBEAN AT KEPPEL BAY</td>\n",
       "      <td>1470000</td>\n",
       "      <td>1751</td>\n",
       "      <td>4</td>\n",
       "      <td>RCR</td>\n",
       "      <td>Resale</td>\n",
       "      <td>840</td>\n",
       "      <td>06 to 10</td>\n",
       "      <td>79.0</td>\n",
       "      <td>Oct-19</td>\n",
       "    </tr>\n",
       "    <tr>\n",
       "      <td>9</td>\n",
       "      <td>THE INTERLACE</td>\n",
       "      <td>4550000</td>\n",
       "      <td>868</td>\n",
       "      <td>4</td>\n",
       "      <td>RCR</td>\n",
       "      <td>Resale</td>\n",
       "      <td>5242</td>\n",
       "      <td>16 to 20</td>\n",
       "      <td>89.0</td>\n",
       "      <td>Oct-19</td>\n",
       "    </tr>\n",
       "  </tbody>\n",
       "</table>\n",
       "</div>"
      ],
      "text/plain": [
       "                      name    price  unit_price  district_code segment  \\\n",
       "0                 SEASCAPE  4388000        2028              4     CCR   \n",
       "1      COMMONWEALTH TOWERS  1300000        1887              3     RCR   \n",
       "2              THE TRILINQ  1755000        1304              5     OCR   \n",
       "3                THE CREST  2085000        2201              3     RCR   \n",
       "4            THE ANCHORAGE  1848888        1468              3     RCR   \n",
       "5        MOUNT FABER LODGE  4400000        1188              4     RCR   \n",
       "6             BLUE HORIZON   990000        1022              5     OCR   \n",
       "7           DOVER PARKVIEW  1088000        1162              5     RCR   \n",
       "8  CARIBBEAN AT KEPPEL BAY  1470000        1751              4     RCR   \n",
       "9            THE INTERLACE  4550000         868              4     RCR   \n",
       "\n",
       "     type  area     level  remaining_years    date  \n",
       "0  Resale  2164  06 to 10             87.0  Nov-19  \n",
       "1  Resale   689  16 to 20             93.0  Nov-19  \n",
       "2  Resale  1346  06 to 10             92.0  Nov-19  \n",
       "3  Resale   947  01 to 05             92.0  Nov-19  \n",
       "4  Resale  1259  01 to 05            999.0  Nov-19  \n",
       "5  Resale  3703  06 to 10            999.0  Oct-19  \n",
       "6  Resale   969  21 to 25             80.0  Oct-19  \n",
       "7  Resale   936  06 to 10             73.0  Oct-19  \n",
       "8  Resale   840  06 to 10             79.0  Oct-19  \n",
       "9  Resale  5242  16 to 20             89.0  Oct-19  "
      ]
     },
     "execution_count": 14,
     "metadata": {},
     "output_type": "execute_result"
    }
   ],
   "source": [
    "import pandas as pd\n",
    "\n",
    "df = pd.read_csv(\"condo.csv\") \n",
    "df.head(10)"
   ]
  },
  {
   "cell_type": "code",
   "execution_count": 15,
   "metadata": {},
   "outputs": [
    {
     "data": {
      "text/plain": [
       "array(['Resale', 'New Sale'], dtype=object)"
      ]
     },
     "execution_count": 15,
     "metadata": {},
     "output_type": "execute_result"
    }
   ],
   "source": [
    "df[\"type\"].unique()"
   ]
  },
  {
   "cell_type": "code",
   "execution_count": 16,
   "metadata": {},
   "outputs": [],
   "source": [
    "resale_filt = (df[\"type\"] == \"Resale\")\n",
    "df_resale = df.loc[resale_filt].copy()"
   ]
  },
  {
   "cell_type": "code",
   "execution_count": 17,
   "metadata": {},
   "outputs": [],
   "source": [
    "new_filt = (df[\"type\"] == \"New Sale\")\n",
    "df_new = df.loc[new_filt].copy()"
   ]
  },
  {
   "cell_type": "code",
   "execution_count": 18,
   "metadata": {},
   "outputs": [],
   "source": [
    "from matplotlib import pyplot as plt\n",
    "import numpy as np\n",
    "plt.style.use(\"fivethirtyeight\")"
   ]
  },
  {
   "cell_type": "code",
   "execution_count": 20,
   "metadata": {},
   "outputs": [
    {
     "data": {
      "image/png": "[encoded data removed]",
      "text/plain": [
       "<Figure size 432x288 with 1 Axes>"
      ]
     },
     "metadata": {},
     "output_type": "display_data"
    }
   ],
   "source": [
    "plt.boxplot(x=df_resale.price)\n",
    "plt.show()"
   ]
  },
  {
   "cell_type": "code",
   "execution_count": 21,
   "metadata": {},
   "outputs": [
    {
     "data": {
      "image/png": "[encoded data removed]",
      "text/plain": [
       "<Figure size 432x288 with 1 Axes>"
      ]
     },
     "metadata": {},
     "output_type": "display_data"
    }
   ],
   "source": [
    "plt.boxplot(x=df_new.price)\n",
    "plt.show()"
   ]
  },
  {
   "cell_type": "code",
   "execution_count": 24,
   "metadata": {},
   "outputs": [
    {
     "data": {
      "text/plain": [
       "(array([ 149.,  657.,  867., 1222.,  916.,  869., 1115., 1044., 1019.,\n",
       "         758.,  484.,  481.,  452.,  329.,  219.,  210.,  184.,   90.,\n",
       "          99.,   84.,   42.,   33.,   32.,   33.,   19.,   26.,   27.,\n",
       "          25.,   10.,    5.,    7.,    6.,    9.,    8.,   14.,   14.,\n",
       "           3.,    9.,    7.,    8.,    9.,    2.,    2.,    2.]),\n",
       " array([ 500000.,  600000.,  700000.,  800000.,  900000., 1000000.,\n",
       "        1100000., 1200000., 1300000., 1400000., 1500000., 1600000.,\n",
       "        1700000., 1800000., 1900000., 2000000., 2100000., 2200000.,\n",
       "        2300000., 2400000., 2500000., 2600000., 2700000., 2800000.,\n",
       "        2900000., 3000000., 3100000., 3200000., 3300000., 3400000.,\n",
       "        3500000., 3600000., 3700000., 3800000., 3900000., 4000000.,\n",
       "        4100000., 4200000., 4300000., 4400000., 4500000., 4600000.,\n",
       "        4700000., 4800000., 4900000.]),\n",
       " <a list of 44 Patch objects>)"
      ]
     },
     "execution_count": 24,
     "metadata": {},
     "output_type": "execute_result"
    },
    {
     "data": {
      "image/png": "[encoded data removed]",
      "text/plain": [
       "<Figure size 432x288 with 1 Axes>"
      ]
     },
     "metadata": {},
     "output_type": "display_data"
    }
   ],
   "source": [
    "bin_edges = np.arange(0.5e6, 5e6, 0.1e6)\n",
    "plt.hist(df_new.price, bins = bin_edges, edgecolor = \"black\")"
   ]
  },
  {
   "cell_type": "code",
   "execution_count": 25,
   "metadata": {},
   "outputs": [
    {
     "data": {
      "text/plain": [
       "(array([ 274.,  480.,  787., 1473., 1675., 1505., 1408., 1563., 1409.,\n",
       "        1083., 1034.,  862.,  806.,  708.,  518.,  464.,  389.,  329.,\n",
       "         305.,  241.,  247.,  239.,  188.,  197.,  169.,  155.,  112.,\n",
       "         138.,  105.,   66.,   79.,   84.,   87.,   68.,   59.,   58.,\n",
       "          57.,   54.,   42.,   33.,   43.,   29.,   30.,   44.]),\n",
       " array([ 500000.,  600000.,  700000.,  800000.,  900000., 1000000.,\n",
       "        1100000., 1200000., 1300000., 1400000., 1500000., 1600000.,\n",
       "        1700000., 1800000., 1900000., 2000000., 2100000., 2200000.,\n",
       "        2300000., 2400000., 2500000., 2600000., 2700000., 2800000.,\n",
       "        2900000., 3000000., 3100000., 3200000., 3300000., 3400000.,\n",
       "        3500000., 3600000., 3700000., 3800000., 3900000., 4000000.,\n",
       "        4100000., 4200000., 4300000., 4400000., 4500000., 4600000.,\n",
       "        4700000., 4800000., 4900000.]),\n",
       " <a list of 44 Patch objects>)"
      ]
     },
     "execution_count": 25,
     "metadata": {},
     "output_type": "execute_result"
    },
    {
     "data": {
      "image/png": "[encoded data removed]",
      "text/plain": [
       "<Figure size 432x288 with 1 Axes>"
      ]
     },
     "metadata": {},
     "output_type": "display_data"
    }
   ],
   "source": [
    "bin_edges = np.arange(0.5e6, 5e6, 0.1e6)\n",
    "plt.hist(df_resale.price, bins = bin_edges, edgecolor = \"black\")"
   ]
  },
  {
   "cell_type": "code",
   "execution_count": 26,
   "metadata": {},
   "outputs": [
    {
     "name": "stdout",
     "output_type": "stream",
     "text": [
      "The resale condos might have a higher value as they could have been built in an area where real estate value is higher\n"
     ]
    }
   ],
   "source": [
    "print(\"The resale condos might have a higher value as they could have been built in an area where real estate value is higher\")"
   ]
  },
  {
   "cell_type": "code",
   "execution_count": 27,
   "metadata": {},
   "outputs": [
    {
     "data": {
      "text/plain": [
       "(array([1.005e+03, 1.594e+03, 1.755e+03, 9.030e+02, 1.534e+03, 1.189e+03,\n",
       "        7.300e+02, 4.040e+02, 3.920e+02, 2.190e+02, 1.280e+02, 5.800e+01,\n",
       "        1.440e+02, 1.700e+01, 1.400e+01, 3.500e+01, 9.000e+00, 1.100e+01,\n",
       "        8.000e+00, 1.000e+00, 1.000e+00, 1.600e+01, 1.000e+00, 1.000e+00,\n",
       "        3.000e+00, 2.000e+00, 0.000e+00, 2.000e+00, 1.000e+00, 0.000e+00,\n",
       "        0.000e+00, 0.000e+00, 0.000e+00, 0.000e+00, 0.000e+00, 0.000e+00,\n",
       "        0.000e+00, 0.000e+00, 2.000e+00, 1.000e+00, 0.000e+00, 0.000e+00,\n",
       "        0.000e+00, 0.000e+00, 0.000e+00, 1.000e+00, 0.000e+00, 0.000e+00,\n",
       "        0.000e+00, 0.000e+00, 0.000e+00, 0.000e+00, 0.000e+00, 0.000e+00,\n",
       "        0.000e+00, 0.000e+00, 0.000e+00, 0.000e+00, 0.000e+00, 0.000e+00,\n",
       "        0.000e+00, 0.000e+00, 0.000e+00, 0.000e+00, 0.000e+00, 0.000e+00,\n",
       "        0.000e+00, 0.000e+00, 0.000e+00, 0.000e+00, 0.000e+00, 0.000e+00,\n",
       "        0.000e+00, 1.000e+00, 0.000e+00, 0.000e+00, 0.000e+00, 0.000e+00,\n",
       "        0.000e+00, 0.000e+00, 0.000e+00, 0.000e+00, 0.000e+00, 0.000e+00,\n",
       "        0.000e+00, 0.000e+00, 0.000e+00, 0.000e+00, 0.000e+00, 0.000e+00,\n",
       "        0.000e+00, 0.000e+00, 0.000e+00, 0.000e+00]),\n",
       " array([ 500.,  600.,  700.,  800.,  900., 1000., 1100., 1200., 1300.,\n",
       "        1400., 1500., 1600., 1700., 1800., 1900., 2000., 2100., 2200.,\n",
       "        2300., 2400., 2500., 2600., 2700., 2800., 2900., 3000., 3100.,\n",
       "        3200., 3300., 3400., 3500., 3600., 3700., 3800., 3900., 4000.,\n",
       "        4100., 4200., 4300., 4400., 4500., 4600., 4700., 4800., 4900.,\n",
       "        5000., 5100., 5200., 5300., 5400., 5500., 5600., 5700., 5800.,\n",
       "        5900., 6000., 6100., 6200., 6300., 6400., 6500., 6600., 6700.,\n",
       "        6800., 6900., 7000., 7100., 7200., 7300., 7400., 7500., 7600.,\n",
       "        7700., 7800., 7900., 8000., 8100., 8200., 8300., 8400., 8500.,\n",
       "        8600., 8700., 8800., 8900., 9000., 9100., 9200., 9300., 9400.,\n",
       "        9500., 9600., 9700., 9800., 9900.]),\n",
       " <a list of 94 Patch objects>)"
      ]
     },
     "execution_count": 27,
     "metadata": {},
     "output_type": "execute_result"
    },
    {
     "data": {
      "image/png": "[encoded data removed]",
      "text/plain": [
       "<Figure size 432x288 with 1 Axes>"
      ]
     },
     "metadata": {},
     "output_type": "display_data"
    }
   ],
   "source": [
    "bin_edges = np.arange(0.5e3, 10e3, 0.1e3)\n",
    "plt.hist(df_new.area, bins = bin_edges, edgecolor = \"black\")"
   ]
  },
  {
   "cell_type": "code",
   "execution_count": 28,
   "metadata": {},
   "outputs": [
    {
     "data": {
      "text/plain": [
       "(array([6.400e+02, 5.020e+02, 8.200e+02, 1.197e+03, 1.908e+03, 1.561e+03,\n",
       "        2.164e+03, 2.729e+03, 2.074e+03, 1.147e+03, 9.520e+02, 7.270e+02,\n",
       "        7.160e+02, 4.350e+02, 3.080e+02, 3.280e+02, 2.390e+02, 2.310e+02,\n",
       "        1.300e+02, 1.260e+02, 9.700e+01, 1.510e+02, 7.600e+01, 9.900e+01,\n",
       "        3.800e+01, 3.400e+01, 5.700e+01, 5.000e+01, 3.900e+01, 4.400e+01,\n",
       "        1.500e+01, 2.800e+01, 5.300e+01, 2.900e+01, 1.300e+01, 2.800e+01,\n",
       "        1.800e+01, 1.200e+01, 3.000e+00, 1.000e+01, 6.000e+00, 1.000e+01,\n",
       "        2.900e+01, 7.000e+00, 8.000e+00, 4.000e+00, 4.000e+00, 6.000e+00,\n",
       "        0.000e+00, 4.000e+00, 4.000e+00, 5.000e+00, 3.000e+00, 3.000e+00,\n",
       "        3.000e+00, 0.000e+00, 6.000e+00, 6.000e+00, 2.000e+00, 1.000e+00,\n",
       "        7.000e+00, 1.000e+00, 0.000e+00, 2.000e+00, 6.000e+00, 3.000e+00,\n",
       "        0.000e+00, 2.000e+00, 1.000e+00, 0.000e+00, 1.000e+00, 1.000e+00,\n",
       "        3.000e+00, 1.000e+00, 1.000e+00, 2.000e+00, 0.000e+00, 0.000e+00,\n",
       "        0.000e+00, 0.000e+00, 0.000e+00, 0.000e+00, 0.000e+00, 0.000e+00,\n",
       "        0.000e+00, 0.000e+00, 0.000e+00, 0.000e+00, 1.000e+00, 0.000e+00,\n",
       "        0.000e+00, 1.000e+00, 0.000e+00, 0.000e+00]),\n",
       " array([ 500.,  600.,  700.,  800.,  900., 1000., 1100., 1200., 1300.,\n",
       "        1400., 1500., 1600., 1700., 1800., 1900., 2000., 2100., 2200.,\n",
       "        2300., 2400., 2500., 2600., 2700., 2800., 2900., 3000., 3100.,\n",
       "        3200., 3300., 3400., 3500., 3600., 3700., 3800., 3900., 4000.,\n",
       "        4100., 4200., 4300., 4400., 4500., 4600., 4700., 4800., 4900.,\n",
       "        5000., 5100., 5200., 5300., 5400., 5500., 5600., 5700., 5800.,\n",
       "        5900., 6000., 6100., 6200., 6300., 6400., 6500., 6600., 6700.,\n",
       "        6800., 6900., 7000., 7100., 7200., 7300., 7400., 7500., 7600.,\n",
       "        7700., 7800., 7900., 8000., 8100., 8200., 8300., 8400., 8500.,\n",
       "        8600., 8700., 8800., 8900., 9000., 9100., 9200., 9300., 9400.,\n",
       "        9500., 9600., 9700., 9800., 9900.]),\n",
       " <a list of 94 Patch objects>)"
      ]
     },
     "execution_count": 28,
     "metadata": {},
     "output_type": "execute_result"
    },
    {
     "data": {
      "image/png": "[encoded data removed]",
      "text/plain": [
       "<Figure size 432x288 with 1 Axes>"
      ]
     },
     "metadata": {},
     "output_type": "display_data"
    }
   ],
   "source": [
    "bin_edges = np.arange(0.5e3, 10e3, 0.1e3)\n",
    "plt.hist(df_resale.area, bins = bin_edges, edgecolor = \"black\")"
   ]
  },
  {
   "cell_type": "code",
   "execution_count": 37,
   "metadata": {},
   "outputs": [
    {
     "data": {
      "text/plain": [
       "<matplotlib.collections.PathCollection at 0x7faf24ab8ad0>"
      ]
     },
     "execution_count": 37,
     "metadata": {},
     "output_type": "execute_result"
    },
    {
     "data": {
      "image/png": "[encoded data removed]",
      "text/plain": [
       "<Figure size 432x288 with 1 Axes>"
      ]
     },
     "metadata": {},
     "output_type": "display_data"
    }
   ],
   "source": [
    "plt.scatter(df.area, df.price)"
   ]
  },
  {
   "cell_type": "code",
   "execution_count": 30,
   "metadata": {},
   "outputs": [
    {
     "data": {
      "text/plain": [
       "0        False\n",
       "1         True\n",
       "2        False\n",
       "3        False\n",
       "4        False\n",
       "         ...  \n",
       "32163    False\n",
       "32164     True\n",
       "32165    False\n",
       "32166    False\n",
       "32167     True\n",
       "Name: area, Length: 32168, dtype: bool"
      ]
     },
     "execution_count": 30,
     "metadata": {},
     "output_type": "execute_result"
    }
   ],
   "source": [
    "area_small = df[\"area\"] < 800\n",
    "area_small"
   ]
  },
  {
   "cell_type": "code",
   "execution_count": 31,
   "metadata": {},
   "outputs": [
    {
     "data": {
      "text/plain": [
       "0        False\n",
       "1        False\n",
       "2        False\n",
       "3         True\n",
       "4        False\n",
       "         ...  \n",
       "32163     True\n",
       "32164    False\n",
       "32165    False\n",
       "32166     True\n",
       "32167    False\n",
       "Name: area, Length: 32168, dtype: bool"
      ]
     },
     "execution_count": 31,
     "metadata": {},
     "output_type": "execute_result"
    }
   ],
   "source": [
    "area_median = (df[\"area\"] >= 800) & (df[\"area\"] <= 1200)\n",
    "area_median"
   ]
  },
  {
   "cell_type": "code",
   "execution_count": 32,
   "metadata": {},
   "outputs": [
    {
     "data": {
      "text/plain": [
       "0         True\n",
       "1        False\n",
       "2         True\n",
       "3        False\n",
       "4         True\n",
       "         ...  \n",
       "32163    False\n",
       "32164    False\n",
       "32165     True\n",
       "32166    False\n",
       "32167    False\n",
       "Name: area, Length: 32168, dtype: bool"
      ]
     },
     "execution_count": 32,
     "metadata": {},
     "output_type": "execute_result"
    }
   ],
   "source": [
    "area_large = df[\"area\"] > 1200\n",
    "area_large"
   ]
  },
  {
   "cell_type": "code",
   "execution_count": 44,
   "metadata": {},
   "outputs": [
    {
     "data": {
      "image/png": "[encoded data removed]",
      "text/plain": [
       "<Figure size 432x288 with 1 Axes>"
      ]
     },
     "metadata": {},
     "output_type": "display_data"
    }
   ],
   "source": [
    "df[\"area1\"] = 1 * area_small + 2 * area_median + 3 * area_large\n",
    "df[\"area1\"].unique()\n",
    "prop_area = df[\"area1\"].value_counts(normalize=True)\n",
    "plt.barh([1,2,3],prop_area.loc[[1,2,3]], height = 0.2)\n",
    "plt.show()"
   ]
  },
  {
   "cell_type": "code",
   "execution_count": 35,
   "metadata": {},
   "outputs": [],
   "source": [
    "size_set = [\"Small\", \"Median\", \"Large\"]\n",
    "type_set = [\"Resale\", 'New Sale']\n",
    "\n",
    "filt_SR = (df['area'] == size_set[0]) & (df['type'] == type_set[0])\n",
    "filt_MR = (df['area'] == size_set[1]) & (df['type'] == type_set[0])\n",
    "filt_LR = (df['area'] == size_set[2]) & (df['type'] == type_set[0])\n",
    "\n",
    "filt_SN = (df['area'] == size_set[0]) & (df['type'] == type_set[1])\n",
    "filt_MN = (df['area'] == size_set[1]) & (df['type'] == type_set[1])\n",
    "filt_LN = (df['area'] == size_set[2]) & (df['type'] == type_set[1])"
   ]
  },
  {
   "cell_type": "code",
   "execution_count": 49,
   "metadata": {},
   "outputs": [
    {
     "data": {
      "image/png": "[encoded data removed]",
      "text/plain": [
       "<Figure size 432x288 with 1 Axes>"
      ]
     },
     "metadata": {},
     "output_type": "display_data"
    }
   ],
   "source": [
    "plt.style.use('ggplot')\n",
    "data_small = [df.loc[filt_SR,\"price\"],df.loc[filt_SN,\"price\"]]\n",
    "df.boxplot(x = data_small)\n",
    "plt.show()"
   ]
  },
  {
   "cell_type": "code",
   "execution_count": 51,
   "metadata": {},
   "outputs": [
    {
     "data": {
      "image/png": "[encoded data removed]",
      "text/plain": [
       "<Figure size 432x288 with 1 Axes>"
      ]
     },
     "metadata": {},
     "output_type": "display_data"
    }
   ],
   "source": [
    "plt.style.use('ggplot')\n",
    "data_median = [df.loc[filt_MR,\"price\"],df.loc[filt_MN,\"price\"]]\n",
    "df.boxplot(x = data_median)\n",
    "plt.show()"
   ]
  },
  {
   "cell_type": "code",
   "execution_count": 50,
   "metadata": {},
   "outputs": [
    {
     "data": {
      "image/png": "[encoded data removed]",
      "text/plain": [
       "<Figure size 432x288 with 1 Axes>"
      ]
     },
     "metadata": {},
     "output_type": "display_data"
    }
   ],
   "source": [
    "plt.style.use('ggplot')\n",
    "data_large = [df.loc[filt_LR,\"price\"],df.loc[filt_LN,\"price\"]]\n",
    "df.boxplot(x = data_large)\n",
    "plt.show()"
   ]
  },
  {
   "cell_type": "code",
   "execution_count": null,
   "metadata": {},
   "outputs": [],
   "source": []
  }
 ],
 "metadata": {
  "kernelspec": {
   "display_name": "Python 3",
   "language": "python",
   "name": "python3"
  },
  "language_info": {
   "codemirror_mode": {
    "name": "ipython",
    "version": 3
   },
   "file_extension": ".py",
   "mimetype": "text/x-python",
   "name": "python",
   "nbconvert_exporter": "python",
   "pygments_lexer": "ipython3",
   "version": "3.7.4"
  }
 },
 "nbformat": 4,
 "nbformat_minor": 2
}
