{
 "cells": [
  {
   "cell_type": "code",
   "execution_count": 1,
   "metadata": {},
   "outputs": [
    {
     "data": {
      "text/plain": [
       "{'weather': ['Sunny', 'Cloudy', 'Raining', 'Thunderstorm', 'Haze'],\n",
       " 'probs': [0.315, 0.226, 0.289, 0.087, 0.083],\n",
       " 'paper1': [560, 530, 389, 202, 278],\n",
       " 'paper2': [533, 486, 386, 234, 263]}"
      ]
     },
     "execution_count": 1,
     "metadata": {},
     "output_type": "execute_result"
    }
   ],
   "source": [
    "distr = {'weather': ['Sunny', 'Cloudy', 'Raining', 'Thunderstorm', 'Haze'],\n",
    "         'probs': [0.315, 0.226, 0.289, 0.087, 0.083],\n",
    "         'paper1': [560, 530, 389, 202, 278],\n",
    "         'paper2': [533, 486, 386, 234, 263]}\n",
    "\n",
    "distr\n"
   ]
  },
  {
   "cell_type": "code",
   "execution_count": 11,
   "metadata": {},
   "outputs": [
    {
     "name": "stdout",
     "output_type": "stream",
     "text": [
      "1.0\n"
     ]
    }
   ],
   "source": [
    "sumProb = sum(distr['probs']) \n",
    "print(sumProb)"
   ]
  },
  {
   "cell_type": "code",
   "execution_count": 60,
   "metadata": {},
   "outputs": [
    {
     "name": "stdout",
     "output_type": "stream",
     "text": [
      "Demand of Paper1: 449.249\n",
      "Demand of Paper2: 431.472\n"
     ]
    }
   ],
   "source": [
    "keys, values = zip(*distr.items())\n",
    "## print (\"keys : \", str(keys))\n",
    "## print (\"values : \", str(values))\n",
    "\n",
    "prob = values[1]\n",
    "paper1 = values[2]\n",
    "paper2 = values[3]\n",
    "\n",
    "## print(prob)\n",
    "## print(paper1)\n",
    "## print(paper2)\n",
    "\n",
    "length = len(prob)\n",
    "## print(length)\n",
    "\n",
    "demandP1 = 0\n",
    "for i in range(5):\n",
    "    demandP1 += prob[i]*paper1[i]\n",
    "    \n",
    "## print(demandP1)\n",
    "\n",
    "demandP2 = 0\n",
    "for i in range(5):\n",
    "    demandP2 += prob[i]*paper2[i]\n",
    "    \n",
    "## print(demandP2)\n",
    "\n",
    "print(\"Demand of Paper1: \" + str(demandP1))\n",
    "\n",
    "print(\"Demand of Paper2: \" + str(demandP2))"
   ]
  },
  {
   "cell_type": "code",
   "execution_count": 41,
   "metadata": {},
   "outputs": [
    {
     "name": "stdout",
     "output_type": "stream",
     "text": [
      "The Standard Deviation of Paper1: 118.908\n",
      "The Standard Deviation of Paper2: 101.316\n"
     ]
    }
   ],
   "source": [
    "keys, values = zip(*distr.items())\n",
    "## print (\"keys : \", str(keys))\n",
    "## print (\"values : \", str(values))\n",
    "\n",
    "prob = values[1]\n",
    "paper1 = values[2]\n",
    "paper2 = values[3]\n",
    "\n",
    "## print(prob)\n",
    "## print(paper1)\n",
    "## print(paper2)\n",
    "\n",
    "length = len(prob)\n",
    "## print(length)\n",
    "\n",
    "demandP1 = 0\n",
    "for i in range(5):\n",
    "    demandP1 += prob[i]*paper1[i]\n",
    "    \n",
    "## print(demandP1)\n",
    "\n",
    "demandP2 = 0\n",
    "for i in range(5):\n",
    "    demandP2 += prob[i]*paper2[i]\n",
    "\n",
    "SD1 = 0\n",
    "for i in range(5):\n",
    "    SD1 += prob[i]*((paper1[i] - demandP1)**2)\n",
    "    \n",
    "SD1 = SD1**(1/2)\n",
    "SD1 = round(SD1, 3)\n",
    "\n",
    "SD2 = 0\n",
    "for i in range(5):\n",
    "    SD2 += prob[i]*((paper2[i] - demandP2)**2)\n",
    "    \n",
    "SD2 = SD2**(1/2)\n",
    "SD2 = round(SD2, 3)\n",
    "print(\"The Standard Deviation of Paper1: \" + str(SD1))\n",
    "print(\"The Standard Deviation of Paper2: \" + str(SD2))"
   ]
  },
  {
   "cell_type": "code",
   "execution_count": 68,
   "metadata": {
    "scrolled": true
   },
   "outputs": [
    {
     "name": "stdout",
     "output_type": "stream",
     "text": [
      "-122.55\n",
      "-160.82\n",
      "-128.17\n",
      "-218.92\n",
      "-220.71\n",
      "-124.45\n",
      "-175.18\n",
      "-139.27\n",
      "-247.69\n",
      "-250.28\n",
      "Total Profit paper1: -851.17\n",
      "Total Profit paper2: -936.87\n"
     ]
    }
   ],
   "source": [
    "keys, values = zip(*distr.items())\n",
    "## print (\"keys : \", str(keys))\n",
    "## print (\"values : \", str(values))\n",
    "\n",
    "weather = values[0]\n",
    "prob = values[1]\n",
    "paper1 = values[2]\n",
    "paper2 = values[3]\n",
    "\n",
    "## print(prob)\n",
    "## print(paper1)\n",
    "## print(paper2)\n",
    "\n",
    "length = len(prob)\n",
    "## print(length)\n",
    "\n",
    "demandP1 = 0\n",
    "for i in range(5):\n",
    "    demandP1 += prob[i]*paper1[i]\n",
    "    \n",
    "## print(demandP1)\n",
    "\n",
    "demandP2 = 0\n",
    "for i in range(5):\n",
    "    demandP2 += prob[i]*paper2[i]\n",
    "    \n",
    "costP1 = 0.6\n",
    "costP2 = 0.8\n",
    "sellP1 = 1\n",
    "sellP2 = 1.5\n",
    "\n",
    "orderQtyP1 = 430\n",
    "orderQtyP2 = 380\n",
    "\n",
    "totalcostP1 = orderQtyP1 * costP1\n",
    "totalcostP2 = orderQtyP2 * costP2\n",
    "\n",
    "if paper1[0] < orderQtyP1:\n",
    "    soldQtySunnyP1 = prob[0]*paper1[0]\n",
    "else:\n",
    "    soldQtySunnyP1 = prob[0]*orderQtyP1\n",
    "    \n",
    "totalRevSunnyP1 = soldQtySunnyP1 * sellP1\n",
    "profitSunnyP1 = totalRevSunnyP1 - totalcostP1\n",
    "profitSunnyP1 = round(profitSunnyP1, 2)\n",
    "print(profitSunnyP1)\n",
    "\n",
    "if paper1[1] < orderQtyP1:\n",
    "    soldQtyCloudyP1 = prob[1]*demandP1\n",
    "else:\n",
    "    soldQtyCloudyP1 = prob[1]*orderQtyP1\n",
    "    \n",
    "totalRevCloudyP1 = soldQtyCloudyP1 * sellP1\n",
    "profitCloudyP1 = totalRevCloudyP1 - totalcostP1\n",
    "profitCloudyP1 = round(profitCloudyP1, 2)\n",
    "print(profitCloudyP1)\n",
    "\n",
    "if paper1[2] < orderQtyP1:\n",
    "    soldQtyRainingP1 = prob[2]*demandP1\n",
    "else:\n",
    "    soldQtyRainingP1 = prob[2]*orderQtyP1\n",
    "    \n",
    "totalRevRainingP1 = soldQtyRainingP1 * sellP1\n",
    "profitRainingP1 = totalRevRainingP1 - totalcostP1\n",
    "profitRainingP1 = round(profitRainingP1, 2)\n",
    "print(profitRainingP1)\n",
    "\n",
    "if paper1[3] < orderQtyP1:\n",
    "    soldQtyThunderstormP1 = prob[3]*demandP1\n",
    "else:\n",
    "    soldQtyThunderstormP1 = prob[3]*orderQtyP1\n",
    "    \n",
    "totalRevThunderstormP1 = soldQtyThunderstormP1 * sellP1\n",
    "profitThunderstormP1 = totalRevThunderstormP1 - totalcostP1\n",
    "profitThunderstormP1 = round(profitThunderstormP1, 2)\n",
    "print(profitThunderstormP1)\n",
    "\n",
    "if paper1[4] < orderQtyP1:\n",
    "    soldQtyHazeP1 = prob[4]*demandP1\n",
    "else:\n",
    "    soldQtyHazeP1 = prob[4]*orderQtyP1\n",
    "    \n",
    "totalRevHazeP1 = soldQtyHazeP1 * sellP1\n",
    "profitHazeP1 = totalRevHazeP1 - totalcostP1\n",
    "profitHazeP1 = round(profitHazeP1, 2)\n",
    "print(profitHazeP1)\n",
    "\n",
    "if paper2[0] < orderQtyP2:\n",
    "    soldQtySunnyP2 = prob[0]*paper2[0]\n",
    "else:\n",
    "    soldQtySunnyP2 = prob[0]*orderQtyP2\n",
    "    \n",
    "totalRevSunnyP2 = soldQtySunnyP2 * sellP2\n",
    "profitSunnyP2 = totalRevSunnyP2 - totalcostP2\n",
    "profitSunnyP2 = round(profitSunnyP2, 2)\n",
    "print(profitSunnyP2)\n",
    "\n",
    "if paper2[1] < orderQtyP2:\n",
    "    soldQtyCloudyP2 = prob[1]*demandP2\n",
    "else:\n",
    "    soldQtyCloudyP2 = prob[1]*orderQtyP2\n",
    "    \n",
    "totalRevCloudyP2 = soldQtyCloudyP2 * sellP2\n",
    "profitCloudyP2 = totalRevCloudyP2 - totalcostP2\n",
    "profitCloudyP2 = round(profitCloudyP2, 2)\n",
    "print(profitCloudyP2)\n",
    "\n",
    "if paper2[2] < orderQtyP2:\n",
    "    soldQtyRainingP2 = prob[2]*demandP2\n",
    "else:\n",
    "    soldQtyRainingP2 = prob[2]*orderQtyP2\n",
    "    \n",
    "totalRevRainingP2 = soldQtyRainingP2 * sellP2\n",
    "profitRainingP2 = totalRevRainingP2 - totalcostP2\n",
    "profitRainingP2 = round(profitRainingP2, 2)\n",
    "print(profitRainingP2)\n",
    "\n",
    "if paper2[3] < orderQtyP2:\n",
    "    soldQtyThunderstormP2 = prob[3]*demandP2\n",
    "else:\n",
    "    soldQtyThunderstormP2 = prob[3]*orderQtyP2\n",
    "    \n",
    "totalRevThunderstormP2 = soldQtyThunderstormP2 * sellP2\n",
    "profitThunderstormP2 = totalRevThunderstormP2 - totalcostP2\n",
    "profitThunderstormP2 = round(profitThunderstormP2, 2)\n",
    "print(profitThunderstormP2)\n",
    "\n",
    "if paper2[4] < orderQtyP2:\n",
    "    soldQtyHazeP2 = prob[4]*demandP2\n",
    "else:\n",
    "    soldQtyHazeP2 = prob[4]*orderQtyP2\n",
    "    \n",
    "totalRevHazeP2 = soldQtyHazeP2 * sellP2\n",
    "profitHazeP2 = totalRevHazeP2 - totalcostP2\n",
    "profitHazeP2 = round(profitHazeP2, 2)\n",
    "print(profitHazeP2)\n",
    "\n",
    "totalProfit1 = profitSunnyP1 + profitCloudyP1 + profitRainingP1 + profitThunderstormP1 + profitHazeP1\n",
    "totalProfit2 = profitSunnyP2 + profitCloudyP2 + profitRainingP2 + profitThunderstormP2 + profitHazeP2\n",
    "totalProfit2 = round(totalProfit2, 2)\n",
    "\n",
    "print(\"Total Profit paper1: \" + str(totalProfit1))\n",
    "print(\"Total Profit paper2: \" + str(totalProfit2))"
   ]
  },
  {
   "cell_type": "code",
   "execution_count": null,
   "metadata": {
    "scrolled": false
   },
   "outputs": [],
   "source": []
  },
  {
   "cell_type": "code",
   "execution_count": null,
   "metadata": {},
   "outputs": [],
   "source": []
  }
 ],
 "metadata": {
  "kernelspec": {
   "display_name": "Python 3",
   "language": "python",
   "name": "python3"
  },
  "language_info": {
   "codemirror_mode": {
    "name": "ipython",
    "version": 3
   },
   "file_extension": ".py",
   "mimetype": "text/x-python",
   "name": "python",
   "nbconvert_exporter": "python",
   "pygments_lexer": "ipython3",
   "version": "3.7.4"
  }
 },
 "nbformat": 4,
 "nbformat_minor": 2
}
